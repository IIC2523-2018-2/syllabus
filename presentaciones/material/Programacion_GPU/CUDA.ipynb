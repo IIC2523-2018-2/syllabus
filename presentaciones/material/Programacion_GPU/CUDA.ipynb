{
 "cells": [
  {
   "cell_type": "code",
   "execution_count": 12,
   "metadata": {},
   "outputs": [],
   "source": [
    "import numpy as np\n",
    "from timeit import default_timer as timer\n",
    "from numba import vectorize\n",
    "\n",
    "# Se define la operacion unitaria que sera distribuida automaticamente a cada elemento del array\n",
    "@vectorize(['float32(float32, float32)'], target='cuda')\n",
    "def pow(a, b):\n",
    "    return a ** b\n",
    "\n",
    "def main():\n",
    "    vec_size = 100000000\n",
    "\n",
    "    a = b = np.array(np.random.sample(vec_size), dtype=np.float32)\n",
    "    c = np.zeros(vec_size, dtype=np.float32)\n",
    "\n",
    "    start = timer()\n",
    "    c = pow(a, b)\n",
    "    duration = timer() - start\n",
    "\n",
    "    print(duration)"
   ]
  },
  {
   "cell_type": "code",
   "execution_count": 13,
   "metadata": {},
   "outputs": [
    {
     "name": "stdout",
     "output_type": "stream",
     "text": [
      "0.9416155470000049\n"
     ]
    }
   ],
   "source": [
    "main()"
   ]
  },
  {
   "cell_type": "code",
   "execution_count": null,
   "metadata": {},
   "outputs": [],
   "source": []
  }
 ],
 "metadata": {
  "kernelspec": {
   "display_name": "Python 3",
   "language": "python",
   "name": "python3"
  },
  "language_info": {
   "codemirror_mode": {
    "name": "ipython",
    "version": 3
   },
   "file_extension": ".py",
   "mimetype": "text/x-python",
   "name": "python",
   "nbconvert_exporter": "python",
   "pygments_lexer": "ipython3",
   "version": "3.7.0"
  }
 },
 "nbformat": 4,
 "nbformat_minor": 1
}
