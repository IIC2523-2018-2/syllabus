{
  "nbformat": 4,
  "nbformat_minor": 0,
  "metadata": {
    "colab": {
      "name": "Material Titan.pynb",
      "version": "0.3.2",
      "provenance": []
    },
    "kernelspec": {
      "name": "python3",
      "display_name": "Python 3"
    }
  },
  "cells": [
    {
      "metadata": {
        "id": "eHggVN8RRbkl",
        "colab_type": "text"
      },
      "cell_type": "markdown",
      "source": [
        "# Titan: Base de datos distribuida\n",
        "# ¿Qué es Titan?\n",
        "\n",
        "\n",
        "\n",
        "Titan es una **base de datos de grafos** altamente escalable, optimizada para almacenar y consultar grandes gráficos con miles de **millones de vértices** y aristas distribuidas en un grupo de múltiples máquinas. Titan es una **base de datos transaccional** que soporta de forma concurrente miles de usuarios, realizar recorridos complejos en el grafo y consultas de grafos analíticos.\n",
        "\n",
        "## Antes de todo ¿Que es una base de datos de grafos? y ¿para qué la usaríamos?\n",
        "\n",
        "Imaginemos Facebook:\n",
        "\n",
        "![](https://www.juanmerodio.com/wp-content/uploads/opengraph-facebook.jpg)\n",
        "\n",
        "La cantidad de relaciones que tinen las diferentes páginas, personas y comentarios es muy diversa y para lograr realizar recomendaciones de amistad, se requeriría una cantidad enorme de joins por tabla. Para mejorar la forma de consultar, navegar y editar la información, se utiliza este modelo de datos llamado grafos. Una descripción general de este modelo es:\n",
        " \n",
        " > Una base de datos orientada a grafos representa la información como nodos de un grafo y sus relaciones con las aristas del mismo, de manera que se pueda usar teoría de grafos para recorrer la base de datos ya que esta puede describir atributos de los nodos (entidades) y las aristas (relaciones).\n",
        "\n",
        "Algunas de sus ventajas son:\n",
        "\n",
        "* **Número indeterminado de atributos**: una persona puede tener relacionados cuatro nombres mientras que otra solamente dos, sin desperdiciar espacio.\n",
        "* **Fácil de recorrer**: se puede recorrer directamente la base de datos de forma jerárquica, obtener el nodo abuelo del nodo y viceversa. Con `join` es más dificil:\n",
        "![image](https://user-images.githubusercontent.com/15641721/48666997-3556fa80-eaab-11e8-94d2-dc320be4432a.png)\n",
        "\n",
        "\n",
        "* **Diferentes usos según las relaciones**: Como se describe en la siguiente imagen:\n",
        "\n",
        "![](https://image.slidesharecdn.com/titan-biggraphdata-2012-120614135441-phpapp01/95/titan-the-rise-of-big-graph-data-58-728.jpg?cb=1339746823)\n",
        "\n",
        "Con la relación de padres y hermanos, se puede tener un grafo social, pero si incluimos los gustos de las personas, es posible realizar recomendaciones basado en los gustos de las personas que tienen \"*likes*\" similares a uno.\n",
        "\n"
      ]
    },
    {
      "metadata": {
        "id": "zKazoWtpEs0M",
        "colab_type": "text"
      },
      "cell_type": "markdown",
      "source": [
        "# Beneficios\n",
        "\n",
        "* Soporte para grafos muy grandes. Los grafos de Titan escalan con el número de máquinas en el clúster.\n",
        "\n",
        "* Soporte para muchas transacciones concurrentes y procesamiento de grafos operacionales. La capacidad transaccional de Titan se amplía con la cantidad de máquinas en el clúster y responde a consultas complejas en grandes grafos en milisegundos.\n",
        "\n",
        "* Compatibilidad con análisis de grafos globales y procesamiento de grafos por lotes a través del marco de Hadoop.\n",
        "\n",
        "* Compatibilidad con geo, rango numérico y búsqueda de texto completo de vértices y bordes en gráficos muy grandes.\n",
        "\n",
        "* Soporte nativo para el popular modelo de datos de gráficos de propiedades expuesto por TinkerPop.\n",
        "\n",
        "* Soporte nativo para el lenguaje de navegación de grafos de Gremlin.\n",
        "\n",
        "* Fácil integración con el servidor de gráficos Gremlin para la conectividad independiente del lenguaje de programación.\n",
        "\n",
        "* Numerosas configuraciones de nivel de gráfico proporcionan mandos para el rendimiento de ajuste.\n",
        "\n",
        "* Los índices centrados en vértices proporcionan consultas a nivel de vértice para aliviar problemas con el infame problema de supernodo.\n",
        "\n",
        "* Proporciona una representación de disco optimizada para permitir un uso eficiente del almacenamiento y la velocidad de acceso.\n",
        "\n",
        "* Código abierto bajo la licencia de Apache 2."
      ]
    },
    {
      "metadata": {
        "id": "_MNeu6tDrs2T",
        "colab_type": "text"
      },
      "cell_type": "markdown",
      "source": [
        "\n",
        "# Titan y Teorema CAP\n",
        "\n",
        "Recordemos el teorema CAP:\n",
        "\n",
        "> Un sistema de datos distribuidos pude asegurar, a lo sumo, dos de las siguientes propiedades: fuerte consistencia, alta disponibilidad y tolerancia a particiones.\n",
        "\n",
        "![](http://s3.thinkaurelius.com/docs/titan/1.0.0/images/titan-captheorem.png)\n",
        "\n",
        "Como se muestra en la imagen, titan puede con las 3 propiedades **pero no simultaneamente**. Titan es \"*backend agnostic*\", esto hace referencia a que puede cambiar su *backend* para ajustarse a las necesidades. \n",
        "\n",
        "### Titan y Cassandra\n",
        "\n",
        "Apache Cassandra es una base de datos NoSQL distribuida y basada en un modelo de almacenamiento de «clave-valor». Sus beneficios con titan son: \n",
        "\n",
        "* Continuamente disponible sin un solo punto de falla.\n",
        "* No hay cuellos de botella de lectura / escritura en el grafo\n",
        "* La escalabilidad elástica permite la introducción y eliminación de máquinas.\n",
        "* La capa de almacenamiento en caché garantiza que los datos a los que se accede continuamente estén disponibles en la memoria.\n",
        "* Aumente el tamaño de la memoria caché agregando más máquinas al clúster.\n",
        "* Integración con Hadoop.\n",
        "\n",
        "\n",
        "### Titan y HBase\n",
        "\n",
        "HBase es una base de datos distribuida no relacional de código abierto modelada a partir de Google BigTable. Bigtable es un sistema de almacenamiento distribuido para administrar datos estructurados que está diseñado para escalar a un tamaño muy grande: petabytes de datos en miles de servidores de productos básicos. Los beneficios con titan son:\n",
        "\n",
        "\n",
        "* Estrecha integración con el ecosistema de Hadoop.\n",
        "* Soporte nativo para una consistencia fuerte.\n",
        "* Escalabilidad lineal con la adición de más máquinas.\n",
        "* Estrictamente consistente en lectura y escritura.\n",
        "* Clases básicas convenientes para respaldar trabajos de Hadoop MapReduce con tablas HBase.\n",
        "\n",
        "### Titan y Berkeley DB\n",
        "\n",
        "Berkeley DB es una librería de manejo de base de datos. Soporta múltiples datos para una misma clave. Berkeley DB permite miles de hilos de control manipulando bases de datos de hasta 256 terabytes en muchos sistemas, incluidos la mayoría de los tipo-UNIX y Windows, e incluso sistemas operativos de tiempo real. Como base de datos no distribuida, es utilizada por Titan para el *testing* y fines de exploración."
      ]
    },
    {
      "metadata": {
        "id": "yYFD8T_VwNzM",
        "colab_type": "text"
      },
      "cell_type": "markdown",
      "source": [
        "# Arquitectura Titan\n",
        "\n",
        "![](http://s3.thinkaurelius.com/docs/titan/0.5.1/images/titan-architecture-layer-diagram.svg)\n",
        "\n",
        "\n",
        "La arquitectura modular de Titan le permite interactuar con una amplia gama de tecnologías de almacenamiento, índices y clientes; También facilita el proceso de extensión de Titan para admitir nuevos. Aquí se destaca que las aplicaciones pueden acceder directamente a la API de Titan o pueden recurrir a usar TinkerPop y este realiza toda la comunicación con titan. Al mismo tiempo, se vuelve a ejemplificar que Titan puede tener un backend distinto e incluso puede variar su indexador.\n",
        "\n",
        "**Nota:** Apache TinkerPop es un framework de computo de grafos para bases de datos de grafos (OLTP) y sistmas de análisis de grafos. (OLAP).\n",
        "\n",
        "\n",
        "## Arquitectura distribuida\n",
        "\n",
        "Titan cuenta con 3 diferentes formas :\n",
        "\n",
        "### Nativa\n",
        "\n",
        "![](http://s3.thinkaurelius.com/docs/titan/1.0.0/images/titan-modes-distributed.png)\n",
        "\n",
        "\n",
        "* Se conecta de forma remota o local al clúster\n",
        "* Puede escalar el tamaño hasta el clúster puede\n",
        "* Utiliza la API nativa de Titan\n",
        "* Posible cuello de botella de procesamiento\n",
        "\n",
        "### Remota \n",
        "\n",
        "![](http://s3.thinkaurelius.com/docs/titan/1.0.0/images/titan-modes-rexster.png)\n",
        "\n",
        "* Pone Rexster (servidor de grafos) en el frente para permitir el acceso a la APi. \n",
        "* Se conecta de forma remota al clúster.\n",
        "* Puede escalar el tamaño en la medida en que el clúster \n",
        "* Posible cuello de botella de procesamiento\n",
        "\n",
        "* **Nota**: Rexster es un servidor de grafos que expone cualquier grafo de Blueprints a través de REST y un protocolo binario llamado RexPro.\n",
        "\n",
        "\n",
        "### Embebido \n",
        "\n",
        "![](http://s3.thinkaurelius.com/docs/titan/1.0.0/images/titan-modes-embedded.png)\n",
        "\n",
        "* Titan y Rexster corren en cada nodo\n",
        "* Mejora considerable del rendimiento / escalabilidad.\n",
        "\n"
      ]
    },
    {
      "metadata": {
        "id": "0cpfG8RFcaOU",
        "colab_type": "text"
      },
      "cell_type": "markdown",
      "source": [
        "# Algunas limitaciones\n",
        "\n",
        "## Espacio posible\n",
        "Titan soporta un trillón (2^60) de aristas y la mitad en vértices. Esta limitación la impone el esquema de ID que ocupa Titan.\n",
        "\n",
        "## Busqueda\n",
        "\n",
        "Obtener una arista por su ID no tiene un tiempo de operación constante es O(log (k)) donde k es el número de bordes incidentes en el vértice adyacente.\n",
        "\n",
        "## Titan retirado\n",
        "\n",
        "![image](https://user-images.githubusercontent.com/15641721/48667604-dbf5c800-eab8-11e8-9e35-6faddef44d72.png)\n",
        "\n",
        "![image](https://user-images.githubusercontent.com/15641721/48667608-e57f3000-eab8-11e8-922f-1d56fd805020.png)\n",
        "\n",
        "Desde el 2016 no hay commits sobre la implementación de titan, pero ahora existe [JanusGraph](http://janusgraph.org/) que es un *fork* de titan y sigue implementando más mejoras hasta el día de hoy."
      ]
    },
    {
      "metadata": {
        "id": "V9jWp51wdIa0",
        "colab_type": "text"
      },
      "cell_type": "markdown",
      "source": [
        "# Mini demo con titan"
      ]
    },
    {
      "metadata": {
        "id": "uSjjboou_nyS",
        "colab_type": "text"
      },
      "cell_type": "markdown",
      "source": [
        " # Instalación del sistema para correr Gremlin\n",
        " \n",
        " Google Colab no tiene nada para correr Gremlin, así que instalaremos todo en los servidores de google. No hay que preocuparse por nada porque despues google reiniciará estos servidores."
      ]
    },
    {
      "metadata": {
        "id": "4Y3Or2Jn-bNW",
        "colab_type": "code",
        "colab": {}
      },
      "cell_type": "code",
      "source": [
        "!add-apt-repository -y ppa:webupd8team/java > /dev/null 2>&1\n",
        "! echo dd-apt-repository ppa:webupd8team/java ready\n",
        "    \n",
        "!apt-get install -qq openjdk-8-jdk > /dev/null\n",
        "! echo apt-get install openjdk-8-jdk ready\n",
        "\n",
        "!apt-get update -qq\n",
        "! echo apt-get update ready\n"
      ],
      "execution_count": 0,
      "outputs": []
    },
    {
      "metadata": {
        "id": "LVyUtBJl_wa-",
        "colab_type": "text"
      },
      "cell_type": "markdown",
      "source": [
        "# Descargar Titan\n",
        "\n",
        "Descargamos la versión más usada de titan (1.0) y la descomprimimos."
      ]
    },
    {
      "metadata": {
        "id": "nvetiuok_CDZ",
        "colab_type": "code",
        "colab": {}
      },
      "cell_type": "code",
      "source": [
        "!wget http://s3.thinkaurelius.com/downloads/titan/titan-1.0.0-hadoop1.zip\n",
        "!unzip -q titan-1.0.0-hadoop1.zip \n",
        "!rm titan-1.0.0-hadoop1.zip \n",
        "!ls"
      ],
      "execution_count": 0,
      "outputs": []
    },
    {
      "metadata": {
        "id": "NSwUDQlh_yix",
        "colab_type": "text"
      },
      "cell_type": "markdown",
      "source": [
        "# Ingresar a la carpeta de titán\n",
        "\n",
        "Accedemos a la carpeta donde descomprimimos titan."
      ]
    },
    {
      "metadata": {
        "id": "K4QX4Pmk_qT_",
        "colab_type": "code",
        "colab": {}
      },
      "cell_type": "code",
      "source": [
        "cd titan-1.0.0-hadoop1"
      ],
      "execution_count": 0,
      "outputs": []
    },
    {
      "metadata": {
        "id": "6RfnZvfv_y3Y",
        "colab_type": "text"
      },
      "cell_type": "markdown",
      "source": [
        "# Ejecutar Gremlin\n",
        "\n",
        "Antes de ejecutarlo, es necesario destaca que el grafo a cargar es el siguiente:\n",
        "\n",
        "![](http://s3.thinkaurelius.com/docs/titan/1.0.0/images/graph-of-the-gods-2.png)\n",
        "\n",
        "\n",
        "Es posible apreciar  que hay diferentes relaciones entre los nodos y estos a su vez son **hibridos**, es decir, son de diferentes tipos,hay titanes, dioses, localizaciones, etc. El fin de la siguiente demo es utiizar comandos de busqueda de grafo para explorar este *dataset*. Para empezar, ejecutar la siguiente casilla para abrir Gremlin, esperar a que salga lo siguiente:\n",
        "```\n",
        "\n",
        "         \\,,,/\n",
        "         (o o)\n",
        "-----oOOo-(3)-oOOo-----\n",
        "plugin activated: aurelius.titan\n",
        "plugin activated: tinkerpop.server\n",
        "plugin activated: tinkerpop.utilities\n",
        "...\n",
        "plugin activated: tinkerpop.hadoop\n",
        "plugin activated: tinkerpop.tinkergraph\n",
        "gremlin> \n",
        "\n",
        "```\n",
        "\n",
        "Luego, dentro de gremlin, ingresar una a una las siguientes líneas:\n",
        "```\n",
        "graph = TitanFactory.open('conf/titan-berkeleyje-es.properties')\n",
        "GraphOfTheGodsFactory.load(graph)\n",
        "g = graph.traversal()\n",
        "\n",
        "```\n",
        "\n",
        "En caso de salir: \n",
        "\n",
        "```console\n",
        "Adding this property for key [~T$SchemaName] and value [rt\u001ename] violates a uniqueness constraint [SystemIndex#~T$SchemaName]\n",
        "```\n",
        "No preocuparse, solo responder `N` y seguir con el siguiente comando. Luego de ejecutar las 3 líneas, el grafo ya está cargado, por lo tanto podemos realizar las consultas en este. Por ejemplo, se iniciará buscando el nodo **Neptune**, para eso se realiza el siguiente comando:\n",
        "\n",
        "```\n",
        "neptune = g.V().has('name', 'neptune').next()\n",
        "```\n",
        "Esto, lo que hace es solicitar todos los vertices  (`g.V()`) y luego filtrar por aquel que tenga el nombre 'neptune' (**`has('name', 'neptune')`**). Finalmente se utiliza el **`next()`** para obtener el objeto nodo.\n",
        "\n",
        "\n",
        "## ¿Como es la sintaxis?\n",
        "\n",
        "gremlin> g.V().has('name', 'hercules').out('father').out('father').values('name')\n",
        "==>saturn\n",
        "La consulta de puede leer como:\n",
        "1. `g`: para identificar el grafo actual.\n",
        "2. `V()`: obtener todos los vertices del grafo\n",
        "3. `has('name', 'hercules')`: filtrar por aquellos vertices cuya property \"name\" es \"hercules\".\n",
        "4. `out('father')`: navegar a los nodos que son \"apuntados\" por la relación \"father\" desde el nodo \"hercules\".\n",
        "5. `out('father')`: navegar nuevamente a los nodos que son \"apuntados\" por la relación \"father\" desde el nodo que antes habíamos llegado.\n",
        "6. `values('name')`: obtener la propery \"name\" de los que llegamos.\n",
        "\n",
        "## Continuar demo\n",
        "\n",
        "Ahora queremos ver los hermanos de neptune.\n",
        "\n",
        "> `g.V(neptune).in('brother')`\n",
        "\n",
        "¿Y si queremos saber sus nombers?\n",
        "\n",
        "> `g.V(neptune).in('brother').values('name')`\n",
        "\n",
        "\n",
        "Y si ahora hacemos `g.V(neptune).in('brother').out('lives').in('lives').values('name')` ¿que saldrá?\n",
        "\n"
      ]
    },
    {
      "metadata": {
        "id": "wgEZAshD_vf1",
        "colab_type": "code",
        "colab": {}
      },
      "cell_type": "code",
      "source": [
        "! bin/gremlin.sh"
      ],
      "execution_count": 0,
      "outputs": []
    }
  ]
}